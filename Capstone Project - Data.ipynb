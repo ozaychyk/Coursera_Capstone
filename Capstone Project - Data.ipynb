{
 "cells": [
  {
   "cell_type": "markdown",
   "metadata": {},
   "source": [
    "<H1>Capstone Project - The Battle of Neighborhoods</H1>\n",
    "<H2>Relocation Decision Assistance</H2>\n",
    "<H4>Introduction/Business Problem</H4>\n",
    "<p>A friend of mine is looking to relocate from the West Coast to the East Coast of US. She is considering Washington DC and is looking for a neighborhood with similar vicinity as her current location. She would like the average schools’ rating in that neighborhood to be the same or higher as the schools in her current location and the medium house prices to be same or lower as her current location.</p>"
   ]
  },
  {
   "cell_type": "markdown",
   "metadata": {},
   "source": [
    "<H4>Data</H4>\n",
    "<p>My friend’s zip code will be used as targeted neighborhood.<br>\n",
    "I will obtain Washington DC zip codes with latitude and longitude information from the free <a href=\"https://simplemaps.com/data/us-zips\">US Zip Codes Database</a>.<br> \n",
    "I will use Foursquare API to obtain neighborhoods’ details. <br>\n",
    "I will construct CSV file with average schools rating and house prices for each zip code based on the data provided by sites like <a href=\"https://www.zillow.com/homes/Washington-DC_rb/\">Zillow</a>, <a href=\"https://www.trulia.com/DC/Washington/\">Trulia</a> and <a href=\"https://www.greatschools.org/washington-dc/washington/schools/\">GreatSchools</a>. If I find the data to be available in the tabular format, I will use web site scraping technique. If not, I may need to use manual collection.<br>\n",
    "Collected data will be loaded into Pandas dataframe for segmenting and clustering. Those Washington DC neighborhoods that will end up in the same cluster with the targeted neighborhood will be recommended to my friend for relocation. </p>\n"
   ]
  },
  {
   "cell_type": "code",
   "execution_count": null,
   "metadata": {
    "collapsed": true
   },
   "outputs": [],
   "source": []
  }
 ],
 "metadata": {
  "kernelspec": {
   "display_name": "Python 3",
   "language": "python",
   "name": "python3"
  },
  "language_info": {
   "codemirror_mode": {
    "name": "ipython",
    "version": 3
   },
   "file_extension": ".py",
   "mimetype": "text/x-python",
   "name": "python",
   "nbconvert_exporter": "python",
   "pygments_lexer": "ipython3",
   "version": "3.6.3"
  }
 },
 "nbformat": 4,
 "nbformat_minor": 2
}
