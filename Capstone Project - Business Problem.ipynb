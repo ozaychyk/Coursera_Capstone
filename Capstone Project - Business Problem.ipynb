{
 "cells": [
  {
   "cell_type": "markdown",
   "metadata": {},
   "source": [
    "<H1>Capstone Project - The Battle of Neighborhoods</H1>\n",
    "<H2>Relocation Decision Assistance</H2>\n",
    "<H4>Introduction/Business Problem</H4>\n",
    "<p>A friend of mine is looking to relocate from the West Coast to the East Coast of US. She is considering Washington DC and is looking for a neighborhood with similar vicinity as her current location. She would like the average schools’ rating in that neighborhood to be the same or higher as the schools in her current location and the medium house prices to be same or lower as her current location.</P>"
   ]
  },
  {
   "cell_type": "code",
   "execution_count": null,
   "metadata": {
    "collapsed": true
   },
   "outputs": [],
   "source": []
  }
 ],
 "metadata": {
  "kernelspec": {
   "display_name": "Python 3",
   "language": "python",
   "name": "python3"
  },
  "language_info": {
   "codemirror_mode": {
    "name": "ipython",
    "version": 3
   },
   "file_extension": ".py",
   "mimetype": "text/x-python",
   "name": "python",
   "nbconvert_exporter": "python",
   "pygments_lexer": "ipython3",
   "version": "3.6.3"
  }
 },
 "nbformat": 4,
 "nbformat_minor": 2
}
